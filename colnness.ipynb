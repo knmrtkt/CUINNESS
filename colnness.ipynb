{
 "metadata": {
  "language_info": {
   "codemirror_mode": {
    "name": "ipython",
    "version": 3
   },
   "file_extension": ".py",
   "mimetype": "text/x-python",
   "name": "python",
   "nbconvert_exporter": "python",
   "pygments_lexer": "ipython3",
   "version": "3.6.9"
  },
  "orig_nbformat": 2,
  "kernelspec": {
   "name": "python369jvsc74a57bd031f2aee4e71d21fbe5cf8b01ff0e069b9275f58929596ceb00d14d90e3e16cd6",
   "display_name": "Python 3.6.9 64-bit"
  }
 },
 "nbformat": 4,
 "nbformat_minor": 2,
 "cells": [
  {
   "source": [
    "1. Import and config "
   ],
   "cell_type": "markdown",
   "metadata": {}
  },
  {
   "source": [
    "import os\n",
    "import datetime\n",
    "import cv2\n",
    "\n",
    "############## user define #############\n",
    "ImageSize = 32\n",
    "epoch = 10\n",
    "netName = 'VGG9ave'\n",
    "binary = True\n",
    "marker_type = 'cross'\n",
    "img_num = 9000\n",
    "#####################################\n",
    "\n",
    "DatasetName = 'linetrace_' + str(ImageSize)\n",
    "ProjectName = 'Project_' + DatasetName + '_' + str(datetime.date.today()) + '_' + netName+ '_epoch' +str(epoch)\n",
    "ProjectName = ProjectName + ('_imgnum' + str(img_num) + '_marker' + marker_type)\n",
    "\n",
    "!pip3 install 'cupy-cuda101>=7.7.0,<8.0.0'\n",
    "!pip3 install chainer"
   ],
   "cell_type": "code",
   "metadata": {},
   "execution_count": null,
   "outputs": []
  },
  {
   "source": [
    "2. Download GUINNESS repository from github"
   ],
   "cell_type": "markdown",
   "metadata": {}
  },
  {
   "cell_type": "code",
   "execution_count": null,
   "metadata": {},
   "outputs": [],
   "source": [
    "%cd /content\n",
    "if (os.path.exists('/content/CUINNESS')==False):\n",
    "    !git clone https://github.com/knmrtkt/CUINNESS.git\n",
    "else:\n",
    "    !git pull\n",
    "%cd CUINNESS\n",
    "!git pull"
   ]
  },
  {
   "source": [
    "3. Generate line images\n",
    "\n",
    "Note!!\n",
    "If you want to modify the line generate algorithm, please modify CUINNESS/gen_line_image.py.\n",
    "Double click the file from left side file viewer and modify."
   ],
   "cell_type": "markdown",
   "metadata": {}
  },
  {
   "cell_type": "code",
   "execution_count": null,
   "metadata": {},
   "outputs": [],
   "source": [
    "%cd /content\n",
    "from CUINNESS import gen_line_image\n",
    "img_gen = gen_line_image.gen_line_image()\n",
    "img_gen.generate_image(ImageSize, ImageSize, 3, 2, 'linetrace/', 'dataset.csv', img_num, 4, {\"straight\" : \"0\", \"right\" : \"1\", \"left\" : \"2\",})\n",
    "!rm linetrace/dataset.csv\n",
    "img_gen.mark_image(ImageSize, ImageSize, 'linetrace', 4, 0, marker_type=marker_type)\n",
    "%cd /content/CUINNESS\n",
    "!ls -1 -d ../linetrace/* > list_tmp1.txt\n",
    "!ls -1 ../linetrace > list_tmp2.txt\n",
    "!paste -d ' ' list_tmp1.txt list_tmp2.txt > ../CUINNESS/list.txt\n",
    "!rm list_tmp1.txt list_tmp2.txt"
   ]
  },
  {
   "source": [
    "4. Convert line images to datasets for GUINNESS"
   ],
   "cell_type": "markdown",
   "metadata": {}
  },
  {
   "cell_type": "code",
   "execution_count": null,
   "metadata": {},
   "outputs": [],
   "source": [
    "%cd /content/CUINNESS\n",
    "!python3 gen_training_data.py --pathfile list.txt --dataset $DatasetName --size $ImageSize --keepaspect yes"
   ]
  },
  {
   "source": [
    "5. Training and evaluation. After that project files are downloaded automatically."
   ],
   "cell_type": "markdown",
   "metadata": {}
  },
  {
   "cell_type": "code",
   "execution_count": null,
   "metadata": {},
   "outputs": [],
   "source": [
    "\n",
    "%cd /content/CUINNESS\n",
    "!python3 guinness.py $ProjectName $DatasetName $epoch --netName=$netName\n",
    "%cd $ProjectName\n",
    "!python3 eval.py --dataset ../$DatasetName --size $ImageSize --testnum 100 > eval_result.txt\n",
    "%cd ..\n",
    "ProjectZipPath = '/content/CUINNESS/' + ProjectName + '.zip'\n",
    "!zip -r $ProjectZipPath /content/CUINNESS/$ProjectName\n",
    "from google.colab import files\n",
    "files.download(ProjectZipPath)"
   ]
  }
 ]
}